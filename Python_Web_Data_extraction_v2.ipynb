{
 "cells": [
  {
   "cell_type": "markdown",
   "id": "aa589f79",
   "metadata": {},
   "source": [
    "# Extracting Tables in web pages using Python\n",
    "\n",
    "* Notebook by Cyprien HENRY, PhD, email: contact@dataadepts.com\n",
    "* Follow me here https://www.linkedin.com/in/cyprienhenry/\n",
    "\n",
    "This notebook demonstrates how to **automatically convert tables in a web page to Excel**.\n",
    "\n",
    "\n",
    "**Instructions**\n",
    "\n",
    "* Auto-pilot mode: in the menu click  Run > Run All Cells and then scroll down to the Download Excel button to get a live demo\n",
    "* Custom mode: change the url variable below, to put the page you want to extract data from. Then in the menu click Run > Run All Cells and scroll down to the Download Excel button to get a live demo\n",
    "* To run cells one by one, click in the code cell below and run the following cells pressing Shift + Enter."
   ]
  },
  {
   "cell_type": "code",
   "execution_count": 1,
   "id": "f9d3cd68",
   "metadata": {},
   "outputs": [],
   "source": [
    "url = \"https://en.wikipedia.org/wiki/Provinces_and_territories_of_Canada\""
   ]
  },
  {
   "cell_type": "markdown",
   "id": "73f6d83c",
   "metadata": {},
   "source": [
    "# Import necessary modules"
   ]
  },
  {
   "cell_type": "code",
   "execution_count": 2,
   "id": "2ea46c84",
   "metadata": {},
   "outputs": [],
   "source": [
    "import pandas as pd\n",
    "import myutils"
   ]
  },
  {
   "cell_type": "markdown",
   "id": "e85bcfbb",
   "metadata": {},
   "source": [
    "# Choose the page to scrap here, carefull with the quotes: \" ... \"\n",
    "\n",
    "You can replace the content of the `page` variable with your own page's url. Be careful with the quotes, your link should be between quotes."
   ]
  },
  {
   "cell_type": "code",
   "execution_count": 3,
   "id": "60a0dcf9",
   "metadata": {
    "scrolled": true
   },
   "outputs": [],
   "source": [
    "tables = pd.read_html(url)"
   ]
  },
  {
   "cell_type": "markdown",
   "id": "75d5297b",
   "metadata": {},
   "source": [
    "# Display the first table in the page"
   ]
  },
  {
   "cell_type": "code",
   "execution_count": 4,
   "id": "f6da0dd7",
   "metadata": {},
   "outputs": [
    {
     "data": {
      "text/html": [
       "<div>\n",
       "<style scoped>\n",
       "    .dataframe tbody tr th:only-of-type {\n",
       "        vertical-align: middle;\n",
       "    }\n",
       "\n",
       "    .dataframe tbody tr th {\n",
       "        vertical-align: top;\n",
       "    }\n",
       "\n",
       "    .dataframe thead th {\n",
       "        text-align: right;\n",
       "    }\n",
       "</style>\n",
       "<table border=\"1\" class=\"dataframe\">\n",
       "  <thead>\n",
       "    <tr style=\"text-align: right;\">\n",
       "      <th></th>\n",
       "      <th>Provinces and territories of Canada</th>\n",
       "      <th>Provinces and territories of Canada.1</th>\n",
       "    </tr>\n",
       "  </thead>\n",
       "  <tbody>\n",
       "    <tr>\n",
       "      <th>0</th>\n",
       "      <td>NaN</td>\n",
       "      <td>NaN</td>\n",
       "    </tr>\n",
       "    <tr>\n",
       "      <th>1</th>\n",
       "      <td>Category</td>\n",
       "      <td>Federated state</td>\n",
       "    </tr>\n",
       "    <tr>\n",
       "      <th>2</th>\n",
       "      <td>Number</td>\n",
       "      <td>10 provinces3 territories</td>\n",
       "    </tr>\n",
       "  </tbody>\n",
       "</table>\n",
       "</div>"
      ],
      "text/plain": [
       "  Provinces and territories of Canada Provinces and territories of Canada.1\n",
       "0                                 NaN                                   NaN\n",
       "1                            Category                       Federated state\n",
       "2                              Number             10 provinces3 territories"
      ]
     },
     "metadata": {},
     "output_type": "display_data"
    }
   ],
   "source": [
    "display(tables[0])"
   ]
  },
  {
   "cell_type": "markdown",
   "id": "5fb72d56",
   "metadata": {},
   "source": [
    "# >>> Download Excel File Below >>>\n",
    "\n",
    "click the orange button to get the excel on your computer"
   ]
  },
  {
   "cell_type": "code",
   "execution_count": 5,
   "id": "d91d8c63",
   "metadata": {},
   "outputs": [
    {
     "data": {
      "application/vnd.jupyter.widget-view+json": {
       "model_id": "62cef46b1a9243c8bfe64568e86e4eab",
       "version_major": 2,
       "version_minor": 0
      },
      "text/plain": [
       "HTML(value='<html>\\n    <head>\\n    <meta name=\"viewport\" content=\"width=device-width, initial-scale=1\">\\n    …"
      ]
     },
     "metadata": {},
     "output_type": "display_data"
    }
   ],
   "source": [
    "myutils.dfs_to_excel(tables, \"HTML_to_excel.xlsx\")"
   ]
  },
  {
   "cell_type": "markdown",
   "id": "90560814",
   "metadata": {},
   "source": [
    "# References\n",
    "\n",
    "The links below were useful to create this notebook\n",
    "\n",
    "* https://stackoverflow.com/questions/54137790/convert-from-io-bytesio-to-a-bytes-like-object-in-python3-6\n",
    "    \n",
    "* https://stackoverflow.com/questions/61708701/how-to-download-a-file-using-ipywidget-button\n",
    "\n",
    "* https://stackoverflow.com/questions/54587423/how-to-encode-an-excel-file-to-base64\n",
    "\n",
    "* https://stackoverflow.com/questions/28058563/write-to-stringio-object-using-pandas-excelwriter\n",
    "\n",
    "* https://xlsxwriter.readthedocs.io/working_with_pandas.html#saving-the-dataframe-output-to-a-string\n",
    "\n",
    "* https://stackoverflow.com/questions/4019837/what-do-we-mean-by-byte-array\n",
    "\n",
    "* https://www.google.com/search?client=safari&rls=en&q=mimie+type+of+excel+file&ie=UTF-8&oe=UTF-8"
   ]
  },
  {
   "cell_type": "code",
   "execution_count": null,
   "id": "68141579",
   "metadata": {},
   "outputs": [],
   "source": []
  },
  {
   "cell_type": "code",
   "execution_count": null,
   "id": "36e49cfc",
   "metadata": {},
   "outputs": [],
   "source": []
  },
  {
   "cell_type": "code",
   "execution_count": null,
   "id": "0164b38f",
   "metadata": {},
   "outputs": [],
   "source": []
  },
  {
   "cell_type": "code",
   "execution_count": null,
   "id": "556c800b",
   "metadata": {},
   "outputs": [],
   "source": []
  },
  {
   "cell_type": "code",
   "execution_count": null,
   "id": "3dadd9ea",
   "metadata": {},
   "outputs": [],
   "source": []
  }
 ],
 "metadata": {
  "kernelspec": {
   "display_name": "Python 3 (ipykernel)",
   "language": "python",
   "name": "python3"
  },
  "language_info": {
   "codemirror_mode": {
    "name": "ipython",
    "version": 3
   },
   "file_extension": ".py",
   "mimetype": "text/x-python",
   "name": "python",
   "nbconvert_exporter": "python",
   "pygments_lexer": "ipython3",
   "version": "3.9.13"
  }
 },
 "nbformat": 4,
 "nbformat_minor": 5
}
